{
 "cells": [
  {
   "cell_type": "markdown",
   "id": "7e9f4107-83a1-4cf6-8340-9f9454b57eae",
   "metadata": {},
   "source": [
    "# What's Inside a Data Query Engine  \n",
    "## *Building one from Scratch*  "
   ]
  },
  {
   "cell_type": "markdown",
   "id": "e3d7f6a2-f89c-4a55-bdd6-6d16dc6c7a4e",
   "metadata": {},
   "source": [
    "## Part 1: Starting Simple \n",
    "  \n",
    "![What's Inside a Data Query Engine](./images/dataengine03.png)"
   ]
  },
  {
   "cell_type": "markdown",
   "id": "f21bef00-086e-44fd-b516-01016a08432d",
   "metadata": {},
   "source": [
    "### <font color='green'>__Support for Google Colab__  </font>  \n",
    "    \n",
    "open this notebook in Colab using the following button:  \n",
    "  \n",
    "<a href=\"https://colab.research.google.com/github/shauryashaurya/learn-data-munging/blob/main/00-Python-Collections/01.03%20Fun%20with%20Functools.ipynb\" target=\"_parent\"><img src=\"https://colab.research.google.com/assets/colab-badge.svg\" alt=\"Open In Colab\"/></a>  \n",
    "\n",
    "  \n",
    "<font color='green'>uncomment and execute the cell below to setup and run this notebook on Google Colab.</font>"
   ]
  },
  {
   "cell_type": "code",
   "execution_count": 5,
   "id": "cbba6f93-2b10-45bf-9975-a41d30ffd219",
   "metadata": {},
   "outputs": [],
   "source": [
    "# # SETUP FOR COLAB: select all the lines below and uncomment (CTRL+/ on windows)\n",
    "# # Let's download and unzip the Small MovieLens Dataset\n",
    "# ! mkdir ./../data\n",
    "# ! wget -q https://files.grouplens.org/datasets/movielens/ml-latest-small.zip\n",
    "# ! unzip ./ml-latest-small.zip -d ./../data/"
   ]
  },
  {
   "cell_type": "markdown",
   "id": "868129c9-cedd-4513-997b-53f9427b6f1a",
   "metadata": {},
   "source": [
    "### Get the _Small_ MovieLens Dataset"
   ]
  },
  {
   "cell_type": "markdown",
   "id": "67afc9a9-31b8-483d-89c1-699867c8700b",
   "metadata": {},
   "source": [
    "We'll use the [small MovieLens dataset](https://grouplens.org/datasets/movielens/#:~:text=Small%3A%20100%2C000%20ratings%20and%203%2C600%20tag%20applications) here.\n",
    "\n",
    "Download it and unzip to the data folder under the name `ml-latest-small`.\n",
    "\n",
    "This dataset expands to about 3.2 MB on your local disk. "
   ]
  },
  {
   "cell_type": "code",
   "execution_count": 12,
   "id": "4a045b14-f578-47ad-9972-a3f5aaba0911",
   "metadata": {},
   "outputs": [],
   "source": [
    "datalocation = \"./data/ml-latest-small/\""
   ]
  },
  {
   "cell_type": "code",
   "execution_count": 13,
   "id": "0428c276-5ef7-4bde-addf-3bb79337783d",
   "metadata": {},
   "outputs": [],
   "source": [
    "# specify file names\n",
    "file_path_movies = datalocation + \"movies.csv\"\n",
    "file_path_links = datalocation + \"links.csv\"\n",
    "file_path_ratings = datalocation + \"ratings.csv\"\n",
    "file_path_tags = datalocation + \"tags.csv\""
   ]
  },
  {
   "cell_type": "markdown",
   "id": "bb2a2d08-d779-42a4-bc7d-6ee820d6c5fd",
   "metadata": {},
   "source": [
    "# Here's what our data engine should be able to do  \n",
    "* Load the data into the memory and capture some metadata (things like column names, data types etc.)  \n",
    "* Get a query, a SELECT (xxx) FROM (xxx) WHERE (XXX)  \n",
    "* Parse the query to make sense of it  \n",
    "* Highlight if there are any errors  \n",
    "* Build a query plan  \n",
    "* By looking at the plan and metadata, optimize the query futher  \n",
    "* Execute the query  \n",
    "* Show the results  \n",
    "* Show the cost of running the query  \n",
    "  \n",
    "  \n",
    "_The full set of notebooks also covers JOINs and nested queries, but we are going to treat them as intermediate to advanced cases - since they may distract us from the goal of just being able to understand how data engines work._"
   ]
  },
  {
   "cell_type": "markdown",
   "id": "6389b097-db0c-49cc-8455-80fbd988ef35",
   "metadata": {},
   "source": [
    "We'll directly use the [CSV module](https://docs.python.org/3/library/csv.html) here just to keep our focus on the data engine itself and not get distracted by the intricacies of loading a CSV file."
   ]
  },
  {
   "cell_type": "markdown",
   "id": "2be49771-5b2d-4c28-9afb-f7929a858105",
   "metadata": {},
   "source": [
    "# A Naïve Engine  \n",
    "\n",
    "Let's first build a method to query the data.  \n",
    "We'll worry about parsing a text query into something our engine understands later."
   ]
  },
  {
   "cell_type": "code",
   "execution_count": 25,
   "id": "4de8e88c-30aa-4ff5-aa64-d563326d35b6",
   "metadata": {},
   "outputs": [],
   "source": [
    "import csv"
   ]
  },
  {
   "cell_type": "code",
   "execution_count": 38,
   "id": "e9bc4ebe-94ab-4996-93cf-d1d700091b49",
   "metadata": {},
   "outputs": [],
   "source": [
    "# Load CSV data into a python dictionary\n",
    "def load_csv(file_path, table_name = 'table'):\n",
    "    data = []\n",
    "    with open(file_path, \"r\", encoding=\"utf-8\") as csvfile:\n",
    "        csvreader = csv.DictReader(csvfile, delimiter=\",\", quotechar='\"')\n",
    "        for row in csvreader:\n",
    "            data.append(row)\n",
    "    return {table_name: data}"
   ]
  },
  {
   "cell_type": "code",
   "execution_count": 39,
   "id": "2895a682-ea31-4567-b681-b914e6dc4479",
   "metadata": {},
   "outputs": [],
   "source": [
    "movies_data = load_csv(file_path_movies, 'movies')"
   ]
  },
  {
   "cell_type": "code",
   "execution_count": 40,
   "id": "df435f24-4999-4dde-89de-65330591cfa1",
   "metadata": {},
   "outputs": [
    {
     "data": {
      "text/plain": [
       "[{'movieId': '1',\n",
       "  'title': 'Toy Story (1995)',\n",
       "  'genres': 'Adventure|Animation|Children|Comedy|Fantasy'},\n",
       " {'movieId': '2',\n",
       "  'title': 'Jumanji (1995)',\n",
       "  'genres': 'Adventure|Children|Fantasy'},\n",
       " {'movieId': '3',\n",
       "  'title': 'Grumpier Old Men (1995)',\n",
       "  'genres': 'Comedy|Romance'},\n",
       " {'movieId': '4',\n",
       "  'title': 'Waiting to Exhale (1995)',\n",
       "  'genres': 'Comedy|Drama|Romance'},\n",
       " {'movieId': '5',\n",
       "  'title': 'Father of the Bride Part II (1995)',\n",
       "  'genres': 'Comedy'},\n",
       " {'movieId': '6', 'title': 'Heat (1995)', 'genres': 'Action|Crime|Thriller'},\n",
       " {'movieId': '7', 'title': 'Sabrina (1995)', 'genres': 'Comedy|Romance'},\n",
       " {'movieId': '8',\n",
       "  'title': 'Tom and Huck (1995)',\n",
       "  'genres': 'Adventure|Children'},\n",
       " {'movieId': '9', 'title': 'Sudden Death (1995)', 'genres': 'Action'},\n",
       " {'movieId': '10',\n",
       "  'title': 'GoldenEye (1995)',\n",
       "  'genres': 'Action|Adventure|Thriller'},\n",
       " {'movieId': '11',\n",
       "  'title': 'American President, The (1995)',\n",
       "  'genres': 'Comedy|Drama|Romance'},\n",
       " {'movieId': '12',\n",
       "  'title': 'Dracula: Dead and Loving It (1995)',\n",
       "  'genres': 'Comedy|Horror'}]"
      ]
     },
     "execution_count": 40,
     "metadata": {},
     "output_type": "execute_result"
    }
   ],
   "source": [
    "movies_data['movies'][0:12]"
   ]
  },
  {
   "cell_type": "code",
   "execution_count": 41,
   "id": "c6b30f15-73e1-47a3-a4d5-37ee9b0a0e16",
   "metadata": {},
   "outputs": [],
   "source": [
    "# what would our simple query look like?\n",
    "# let's say something that get's us movies with a specific Id?\n",
    "a_simple_query = {\n",
    "    \"table\": \"movies\",\n",
    "    \"columns\": [\"movieId\", \"title\", \"genres\"],\n",
    "    \"where\": \"int(row['movieId']) == 12\"\n",
    "}"
   ]
  },
  {
   "cell_type": "code",
   "execution_count": 42,
   "id": "6dea16e1-244f-4a8d-b1dd-0b4c64420bb7",
   "metadata": {},
   "outputs": [],
   "source": [
    "# Execute a SELECT query given a dictionary with data in it\n",
    "def execute_select(query, table_data):\n",
    "    columns = query[\"columns\"]\n",
    "    table_name = query[\"table\"]\n",
    "    where_clause = query.get(\"where\")\n",
    "\n",
    "    selected_rows = []\n",
    "    # for row in table_data[table_name]:\n",
    "    for row in table_data:\n",
    "        if where_clause:\n",
    "            # Apply WHERE clause filtering\n",
    "            if eval(where_clause, row):\n",
    "                selected_rows.append({col: row[col] for col in columns})\n",
    "        else:\n",
    "            selected_rows.append({col: row[col] for col in columns})\n",
    "\n",
    "    return selected_rows"
   ]
  },
  {
   "cell_type": "code",
   "execution_count": 43,
   "id": "5c90ad76-3592-4ed7-8c9f-fc67b94648d2",
   "metadata": {},
   "outputs": [
    {
     "ename": "TypeError",
     "evalue": "globals must be a real dict; try eval(expr, {}, mapping)",
     "output_type": "error",
     "traceback": [
      "\u001b[1;31m---------------------------------------------------------------------------\u001b[0m",
      "\u001b[1;31mTypeError\u001b[0m                                 Traceback (most recent call last)",
      "Cell \u001b[1;32mIn[43], line 1\u001b[0m\n\u001b[1;32m----> 1\u001b[0m result \u001b[38;5;241m=\u001b[39m \u001b[43mexecute_select\u001b[49m\u001b[43m(\u001b[49m\u001b[43ma_simple_query\u001b[49m\u001b[43m,\u001b[49m\u001b[43m \u001b[49m\u001b[43mmovies_data\u001b[49m\u001b[43m)\u001b[49m\n\u001b[0;32m      2\u001b[0m \u001b[38;5;28mprint\u001b[39m(result)\n",
      "Cell \u001b[1;32mIn[42], line 12\u001b[0m, in \u001b[0;36mexecute_select\u001b[1;34m(query, table_data)\u001b[0m\n\u001b[0;32m      9\u001b[0m \u001b[38;5;28;01mfor\u001b[39;00m row \u001b[38;5;129;01min\u001b[39;00m table_data:\n\u001b[0;32m     10\u001b[0m     \u001b[38;5;28;01mif\u001b[39;00m where_clause:\n\u001b[0;32m     11\u001b[0m         \u001b[38;5;66;03m# Apply WHERE clause filtering\u001b[39;00m\n\u001b[1;32m---> 12\u001b[0m         \u001b[38;5;28;01mif\u001b[39;00m \u001b[38;5;28;43meval\u001b[39;49m\u001b[43m(\u001b[49m\u001b[43mwhere_clause\u001b[49m\u001b[43m,\u001b[49m\u001b[43m \u001b[49m\u001b[43mrow\u001b[49m\u001b[43m)\u001b[49m:\n\u001b[0;32m     13\u001b[0m             selected_rows\u001b[38;5;241m.\u001b[39mappend({col: row[col] \u001b[38;5;28;01mfor\u001b[39;00m col \u001b[38;5;129;01min\u001b[39;00m columns})\n\u001b[0;32m     14\u001b[0m     \u001b[38;5;28;01melse\u001b[39;00m:\n",
      "\u001b[1;31mTypeError\u001b[0m: globals must be a real dict; try eval(expr, {}, mapping)"
     ]
    }
   ],
   "source": [
    "result = execute_select(a_simple_query, movies_data)\n",
    "print(result)"
   ]
  },
  {
   "cell_type": "markdown",
   "id": "e9cd9648-5a13-446f-a775-76616ace03c1",
   "metadata": {},
   "source": [
    "# Next"
   ]
  },
  {
   "cell_type": "markdown",
   "id": "f30f9979-d5c1-4fa6-875d-76e2c017ec76",
   "metadata": {},
   "source": [
    "Semantic Analysis and Query Planning"
   ]
  }
 ],
 "metadata": {
  "kernelspec": {
   "display_name": "Python 3 (ipykernel)",
   "language": "python",
   "name": "python3"
  },
  "language_info": {
   "codemirror_mode": {
    "name": "ipython",
    "version": 3
   },
   "file_extension": ".py",
   "mimetype": "text/x-python",
   "name": "python",
   "nbconvert_exporter": "python",
   "pygments_lexer": "ipython3",
   "version": "3.11.4"
  }
 },
 "nbformat": 4,
 "nbformat_minor": 5
}
