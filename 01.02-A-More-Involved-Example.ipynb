{
 "cells": [
  {
   "cell_type": "markdown",
   "id": "7e9f4107-83a1-4cf6-8340-9f9454b57eae",
   "metadata": {},
   "source": [
    "# What's Inside a Data Query Engine  \n",
    "## *Building one from Scratch*  "
   ]
  },
  {
   "cell_type": "markdown",
   "id": "e3d7f6a2-f89c-4a55-bdd6-6d16dc6c7a4e",
   "metadata": {},
   "source": [
    "## Part 1: Starting Simple \n",
    "  \n",
    "![What's Inside a Data Query Engine](./images/dataengine03.png)"
   ]
  },
  {
   "cell_type": "markdown",
   "id": "f21bef00-086e-44fd-b516-01016a08432d",
   "metadata": {},
   "source": [
    "### <font color='green'>__Support for Google Colab__  </font>  \n",
    "    \n",
    "open this notebook in Colab using the following button:  \n",
    "  \n",
    "<a href=\"https://colab.research.google.com/github/shauryashaurya/learn-data-munging/blob/main/00-Python-Collections/01.03%20Fun%20with%20Functools.ipynb\" target=\"_parent\"><img src=\"https://colab.research.google.com/assets/colab-badge.svg\" alt=\"Open In Colab\"/></a>  \n",
    "\n",
    "  \n",
    "<font color='green'>uncomment and execute the cell below to setup and run this notebook on Google Colab.</font>"
   ]
  },
  {
   "cell_type": "code",
   "execution_count": 1,
   "id": "cbba6f93-2b10-45bf-9975-a41d30ffd219",
   "metadata": {},
   "outputs": [],
   "source": [
    "# # SETUP FOR COLAB: select all the lines below and uncomment (CTRL+/ on windows)\n",
    "# # Let's download and unzip the Small MovieLens Dataset\n",
    "# ! mkdir ./../data\n",
    "# ! wget -q https://files.grouplens.org/datasets/movielens/ml-latest-small.zip\n",
    "# ! unzip ./ml-latest-small.zip -d ./../data/"
   ]
  },
  {
   "cell_type": "markdown",
   "id": "868129c9-cedd-4513-997b-53f9427b6f1a",
   "metadata": {},
   "source": [
    "### Get the _Small_ MovieLens Dataset"
   ]
  },
  {
   "cell_type": "markdown",
   "id": "67afc9a9-31b8-483d-89c1-699867c8700b",
   "metadata": {},
   "source": [
    "We'll use the [small MovieLens dataset](https://grouplens.org/datasets/movielens/#:~:text=Small%3A%20100%2C000%20ratings%20and%203%2C600%20tag%20applications) here.\n",
    "\n",
    "Download it and unzip to the data folder under the name `ml-latest-small`.\n",
    "\n",
    "This dataset expands to about 3.2 MB on your local disk. "
   ]
  },
  {
   "cell_type": "code",
   "execution_count": 2,
   "id": "4a045b14-f578-47ad-9972-a3f5aaba0911",
   "metadata": {},
   "outputs": [],
   "source": [
    "datalocation = \"./data/ml-latest-small/\""
   ]
  },
  {
   "cell_type": "code",
   "execution_count": 3,
   "id": "0428c276-5ef7-4bde-addf-3bb79337783d",
   "metadata": {},
   "outputs": [],
   "source": [
    "# specify file names\n",
    "file_path_movies = datalocation + \"movies.csv\"\n",
    "file_path_links = datalocation + \"links.csv\"\n",
    "file_path_ratings = datalocation + \"ratings.csv\"\n",
    "file_path_tags = datalocation + \"tags.csv\""
   ]
  },
  {
   "cell_type": "markdown",
   "id": "bb2a2d08-d779-42a4-bc7d-6ee820d6c5fd",
   "metadata": {},
   "source": [
    "# Here's what our data engine should be able to do  \n",
    "* Load the data into the memory and capture some metadata (things like column names, data types etc.)  \n",
    "* Get a query, a SELECT (xxx) FROM (xxx) WHERE (XXX)  \n",
    "* Parse the query to make sense of it  \n",
    "* Highlight if there are any errors  \n",
    "* Build a query plan  \n",
    "* By looking at the plan and metadata, optimize the query futher  \n",
    "* Execute the query  \n",
    "* Show the results  \n",
    "* Show the cost of running the query  \n",
    "  \n",
    "  \n",
    "_The full set of notebooks also covers JOINs and nested queries, but we are going to treat them as intermediate to advanced cases - since they may distract us from the goal of just being able to understand how data engines work._"
   ]
  },
  {
   "cell_type": "markdown",
   "id": "6389b097-db0c-49cc-8455-80fbd988ef35",
   "metadata": {},
   "source": [
    "We'll directly use the [CSV module](https://docs.python.org/3/library/csv.html) here just to keep our focus on the data engine itself and not get distracted by the intricacies of loading a CSV file."
   ]
  },
  {
   "cell_type": "markdown",
   "id": "2be49771-5b2d-4c28-9afb-f7929a858105",
   "metadata": {},
   "source": [
    "# A Naïve Engine  \n",
    "\n",
    "Let's first build a method to query the data.  \n",
    "We'll worry about parsing a text query into something our engine understands later."
   ]
  },
  {
   "cell_type": "code",
   "execution_count": 4,
   "id": "4de8e88c-30aa-4ff5-aa64-d563326d35b6",
   "metadata": {},
   "outputs": [],
   "source": [
    "import csv\n",
    "import re"
   ]
  },
  {
   "cell_type": "code",
   "execution_count": 5,
   "id": "e9bc4ebe-94ab-4996-93cf-d1d700091b49",
   "metadata": {},
   "outputs": [],
   "source": [
    "# Load CSV data into a python dictionary\n",
    "def load_csv(file_path, table_name = 'table'):\n",
    "    data = []\n",
    "    with open(file_path, \"r\", encoding=\"utf-8\") as csvfile:\n",
    "        csvreader = csv.DictReader(csvfile, delimiter=\",\", quotechar='\"')\n",
    "        for row in csvreader:\n",
    "            data.append(row)\n",
    "    return {table_name: data}"
   ]
  },
  {
   "cell_type": "code",
   "execution_count": 6,
   "id": "92378c45-7838-4531-a605-3c91508efa6c",
   "metadata": {},
   "outputs": [
    {
     "name": "stdout",
     "output_type": "stream",
     "text": [
      "group:  movieId, name, genres\n",
      "group:  movies\n",
      "group:   WHERE movieId < 10\n",
      "group:  movieId < 10\n",
      "('movieId, name, genres', 'movies', ' WHERE movieId < 10', 'movieId < 10')\n"
     ]
    }
   ],
   "source": [
    "def parse_select_query(sql: str):\n",
    "\tmatch = re.match(r\"SELECT (.*) FROM (\\w+)( WHERE (.*))?\", sql, re.IGNORECASE)\n",
    "\tif not match:\n",
    "\t\traise ValueError(\"Invalid SQL query\")\n",
    "\tfor group in match.groups():\n",
    "\t\tprint ('group: ',group)\n",
    "\tcolumns, table, _, where = match.groups()\n",
    "\treturn columns, table, _, where\n",
    "\n",
    "query = parse_select_query(\"SELECT movieId, name, genres FROM movies WHERE movieId < 10\")\n",
    "print(query)"
   ]
  },
  {
   "cell_type": "markdown",
   "id": "fafae862-f477-4413-a7b3-18153da51316",
   "metadata": {},
   "source": [
    "For the WHERE clause, we need a way to evaluate an expression.   \n",
    "[Python's built-in eval()](https://docs.python.org/3/library/functions.html#eval) can be used provided the expression is valid python syntax.  \n",
    "Let's test this idea first.  "
   ]
  },
  {
   "cell_type": "code",
   "execution_count": 7,
   "id": "dd5827cb-d298-410e-b68c-c78e0d2c7181",
   "metadata": {},
   "outputs": [],
   "source": [
    "eval_expr = \"int(movieId) == 12\"\n",
    "sample_row =  {'movieId': '12',\n",
    "  'title': 'Dracula: Dead and Loving It (1995)',\n",
    "  'genres': 'Comedy|Horror'}"
   ]
  },
  {
   "cell_type": "code",
   "execution_count": 8,
   "id": "9f81ca85-717b-4a35-8894-cac73dd6dde0",
   "metadata": {},
   "outputs": [
    {
     "data": {
      "text/plain": [
       "True"
      ]
     },
     "execution_count": 8,
     "metadata": {},
     "output_type": "execute_result"
    }
   ],
   "source": [
    "eval(eval_expr,sample_row)"
   ]
  },
  {
   "cell_type": "markdown",
   "id": "e87b0989-597e-4fe1-a0e5-b6190ce27f1d",
   "metadata": {},
   "source": [
    "**A note of caution:**   \n",
    "eval() and exec() built-in methods in Python are considered problematic from a Security standpoint as they let one run arbitrary code.\n",
    "We'll see later how to implement a safer version.  "
   ]
  },
  {
   "cell_type": "code",
   "execution_count": 9,
   "id": "c6b30f15-73e1-47a3-a4d5-37ee9b0a0e16",
   "metadata": {},
   "outputs": [],
   "source": [
    "# what would our simple query look like?\n",
    "# let's say something that get's us movies with a specific Id?\n",
    "table_metadata = {\n",
    "\t'name': 'movies',\n",
    "\t'columns': ['movieId', 'title', 'genres']\n",
    "}\n",
    "\n",
    "where_clause = 'int(movieId) == 12'\n",
    "\n",
    "a_simple_query = where_clause"
   ]
  },
  {
   "cell_type": "code",
   "execution_count": 10,
   "id": "6dea16e1-244f-4a8d-b1dd-0b4c64420bb7",
   "metadata": {},
   "outputs": [],
   "source": [
    "# Execute a SELECT query given a dictionary with data in it\n",
    "def execute_select(query, table_data):\n",
    "\tcolumns = table_metadata['columns']\n",
    "\ttable_name = table_metadata['name']\n",
    "\twhere_clause = query\n",
    "\tselected_rows = []\n",
    "\t# SELECT * FROM\n",
    "\tdata = table_data[table_name]\n",
    "\tfor row in data:\n",
    "\t\tif where_clause:\n",
    "\t\t\t# Apply WHERE clause filtering\n",
    "\t\t\tif eval(where_clause, row):\n",
    "\t\t\t\tselected_rows.append({col: row[col] for col in columns})\n",
    "\t\telse:\n",
    "\t\t\tselected_rows.append({col: row[col] for col in columns})\n",
    "\treturn selected_rows"
   ]
  },
  {
   "cell_type": "code",
   "execution_count": 11,
   "id": "5c90ad76-3592-4ed7-8c9f-fc67b94648d2",
   "metadata": {},
   "outputs": [
    {
     "ename": "NameError",
     "evalue": "name 'movies_data' is not defined",
     "output_type": "error",
     "traceback": [
      "\u001b[1;31m---------------------------------------------------------------------------\u001b[0m",
      "\u001b[1;31mNameError\u001b[0m                                 Traceback (most recent call last)",
      "Cell \u001b[1;32mIn[11], line 1\u001b[0m\n\u001b[1;32m----> 1\u001b[0m result \u001b[38;5;241m=\u001b[39m execute_select(a_simple_query, \u001b[43mmovies_data\u001b[49m)\n\u001b[0;32m      2\u001b[0m \u001b[38;5;28mprint\u001b[39m(\u001b[38;5;124m'\u001b[39m\u001b[38;5;124mresult: \u001b[39m\u001b[38;5;130;01m\\n\u001b[39;00m\u001b[38;5;124m'\u001b[39m, result)\n",
      "\u001b[1;31mNameError\u001b[0m: name 'movies_data' is not defined"
     ]
    }
   ],
   "source": [
    "result = execute_select(a_simple_query, movies_data)\n",
    "print('result: \\n', result)"
   ]
  },
  {
   "cell_type": "code",
   "execution_count": null,
   "id": "bee0f8c9-c482-4b15-83de-62f70dd39d47",
   "metadata": {},
   "outputs": [],
   "source": [
    "another_query = 'int(movieId) <= 12'\n",
    "result = execute_select(another_query, movies_data)\n",
    "print('result: \\n', result)"
   ]
  },
  {
   "cell_type": "markdown",
   "id": "6a77dde7-b426-4a2b-a247-547b8c572f7b",
   "metadata": {},
   "source": [
    "Wait, was it this simple?   \n",
    "Yea!"
   ]
  },
  {
   "cell_type": "markdown",
   "id": "e9cd9648-5a13-446f-a775-76616ace03c1",
   "metadata": {},
   "source": [
    "# Next"
   ]
  },
  {
   "cell_type": "markdown",
   "id": "f30f9979-d5c1-4fa6-875d-76e2c017ec76",
   "metadata": {},
   "source": [
    "Building a more feature rich data engine"
   ]
  }
 ],
 "metadata": {
  "kernelspec": {
   "display_name": "Python 3 (ipykernel)",
   "language": "python",
   "name": "python3"
  },
  "language_info": {
   "codemirror_mode": {
    "name": "ipython",
    "version": 3
   },
   "file_extension": ".py",
   "mimetype": "text/x-python",
   "name": "python",
   "nbconvert_exporter": "python",
   "pygments_lexer": "ipython3",
   "version": "3.11.4"
  }
 },
 "nbformat": 4,
 "nbformat_minor": 5
}
