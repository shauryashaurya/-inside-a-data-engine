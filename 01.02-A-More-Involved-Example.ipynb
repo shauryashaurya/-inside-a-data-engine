{
 "cells": [
  {
   "cell_type": "markdown",
   "id": "7e9f4107-83a1-4cf6-8340-9f9454b57eae",
   "metadata": {},
   "source": [
    "# What's Inside a Data Query Engine  \n",
    "## *Building one from Scratch*  "
   ]
  },
  {
   "cell_type": "markdown",
   "id": "e3d7f6a2-f89c-4a55-bdd6-6d16dc6c7a4e",
   "metadata": {},
   "source": [
    "## Part 2: Just A Tad More Detail \n",
    "  \n",
    "![What's Inside a Data Query Engine](./images/dataengine05.png)"
   ]
  },
  {
   "cell_type": "markdown",
   "id": "f21bef00-086e-44fd-b516-01016a08432d",
   "metadata": {},
   "source": [
    "### <font color='green'>__Support for Google Colab__  </font>  \n",
    "    \n",
    "open this notebook in Colab using the following button:  \n",
    "  \n",
    "<a href=\"https://colab.research.google.com/github/shauryashaurya/learn-data-munging/blob/main/00-Python-Collections/01.03%20Fun%20with%20Functools.ipynb\" target=\"_parent\"><img src=\"https://colab.research.google.com/assets/colab-badge.svg\" alt=\"Open In Colab\"/></a>  \n",
    "\n",
    "  \n",
    "<font color='green'>uncomment and execute the cell below to setup and run this notebook on Google Colab.</font>"
   ]
  },
  {
   "cell_type": "code",
   "execution_count": null,
   "id": "cbba6f93-2b10-45bf-9975-a41d30ffd219",
   "metadata": {},
   "outputs": [],
   "source": [
    "# # SETUP FOR COLAB: select all the lines below and uncomment (CTRL+/ on windows)\n",
    "# # Let's download and unzip the Small MovieLens Dataset\n",
    "# ! mkdir ./../data\n",
    "# ! wget -q https://files.grouplens.org/datasets/movielens/ml-latest-small.zip\n",
    "# ! unzip ./ml-latest-small.zip -d ./../data/"
   ]
  },
  {
   "cell_type": "markdown",
   "id": "868129c9-cedd-4513-997b-53f9427b6f1a",
   "metadata": {},
   "source": [
    "### Get the _Small_ MovieLens Dataset"
   ]
  },
  {
   "cell_type": "markdown",
   "id": "67afc9a9-31b8-483d-89c1-699867c8700b",
   "metadata": {},
   "source": [
    "We'll use the [small MovieLens dataset](https://grouplens.org/datasets/movielens/#:~:text=Small%3A%20100%2C000%20ratings%20and%203%2C600%20tag%20applications) here.\n",
    "\n",
    "Download it and unzip to the data folder under the name `ml-latest-small`.\n",
    "\n",
    "This dataset expands to about 3.2 MB on your local disk. "
   ]
  },
  {
   "cell_type": "code",
   "execution_count": null,
   "id": "4a045b14-f578-47ad-9972-a3f5aaba0911",
   "metadata": {},
   "outputs": [],
   "source": [
    "datalocation = \"./data/ml-latest-small/\""
   ]
  },
  {
   "cell_type": "code",
   "execution_count": null,
   "id": "0428c276-5ef7-4bde-addf-3bb79337783d",
   "metadata": {},
   "outputs": [],
   "source": [
    "# specify file names\n",
    "file_path_movies = datalocation + \"movies.csv\"\n",
    "file_path_links = datalocation + \"links.csv\"\n",
    "file_path_ratings = datalocation + \"ratings.csv\"\n",
    "file_path_tags = datalocation + \"tags.csv\""
   ]
  },
  {
   "cell_type": "markdown",
   "id": "bb2a2d08-d779-42a4-bc7d-6ee820d6c5fd",
   "metadata": {},
   "source": [
    "# Here's what our data engine should be able to do  \n",
    "* Load the data into the memory and capture some metadata (things like column names, data types etc.)  \n",
    "* Get a query, a SELECT (xxx) FROM (xxx) WHERE (XXX)  \n",
    "* Parse the query to make sense of it  \n",
    "* Highlight if there are any errors  \n",
    "* Build a query plan  \n",
    "* By looking at the plan and metadata, optimize the query futher  \n",
    "* Execute the query  \n",
    "* Show the results  \n",
    "* Show the cost of running the query  \n",
    "  \n",
    "  \n",
    "_The full set of notebooks also covers JOINs and nested queries, but we are going to treat them as intermediate to advanced cases - since they may distract us from the goal of just being able to understand how data engines work._"
   ]
  },
  {
   "cell_type": "markdown",
   "id": "6389b097-db0c-49cc-8455-80fbd988ef35",
   "metadata": {},
   "source": [
    "We'll directly use the [CSV module](https://docs.python.org/3/library/csv.html) here just to keep our focus on the data engine itself and not get distracted by the intricacies of loading a CSV file."
   ]
  },
  {
   "cell_type": "markdown",
   "id": "7c868ffc-2792-49e8-9077-92d75fe24264",
   "metadata": {},
   "source": [
    "# Invert the Pyramid"
   ]
  },
  {
   "cell_type": "markdown",
   "id": "3a5a3fd3-9a50-4cd8-902a-0626f0cd814e",
   "metadata": {},
   "source": [
    "Once we build it what would our data engine look like?  \n",
    "  \n",
    "Let's viz the final code, so we have a map of the terrain before starting the hike."
   ]
  },
  {
   "cell_type": "markdown",
   "id": "145a79cf-2d41-4585-94d2-5231787e8785",
   "metadata": {},
   "source": [
    "<font color='red'>Uncommenting the following code will cause miniature blackholes to condense on your microchip. <br/>**Don't do it.**</font> "
   ]
  },
  {
   "cell_type": "markdown",
   "id": "d2b39a22-288b-4fdb-a40e-4688edb0ca71",
   "metadata": {},
   "source": [
    "### Create a database and a table and data in the table \n",
    "```# db = Database()```  \n",
    "```# db.create_table('table_name', [Column('col1', str), Column('col2', str), Column('col3', str)])```  \n",
    "```# db.load_csv('table_name', file_path)```"
   ]
  },
  {
   "cell_type": "markdown",
   "id": "99a9c8b3-5304-4748-bbc4-11bb3977db45",
   "metadata": {},
   "source": [
    "### Example query    \n",
    "```# sql_query = \"SELECT genres FROM movies WHERE genres = 'Comedy'\"```"
   ]
  },
  {
   "cell_type": "markdown",
   "id": "a0d5fb99-a419-4488-9a29-50c21239e10e",
   "metadata": {},
   "source": [
    "### Parsing the query to AST    \n",
    "```# tokens = tokenize(sql_query)```  \n",
    "```# parser = Parser(iter(tokens))```  \n",
    "```# ast = parser.parse()```  "
   ]
  },
  {
   "cell_type": "markdown",
   "id": "3d06be60-5cbb-4c18-a066-b03237f7412a",
   "metadata": {},
   "source": [
    "### Creating the query plan  \n",
    "```# planner = QueryPlanner(db)```  \n",
    "```# plan = planner.create_plan(ast)```  "
   ]
  },
  {
   "cell_type": "markdown",
   "id": "30d2ea55-6026-4160-8e9d-7c23e261aa48",
   "metadata": {},
   "source": [
    "### Optimizing the query plan  \n",
    "```# optimizer = QueryOptimizer(db)```  \n",
    "```# optimized_plan = optimizer.optimize(plan)```  "
   ]
  },
  {
   "cell_type": "markdown",
   "id": "c6a3d393-6eec-427d-a7a5-7f76a201deb8",
   "metadata": {},
   "source": [
    "### Creating the execution plan  \n",
    "```# execution_plan = create_executable_plan(optimized_plan, db)```  "
   ]
  },
  {
   "cell_type": "markdown",
   "id": "2bf34d58-549f-418d-8f9f-43d0ae6615a3",
   "metadata": {},
   "source": [
    "### Executing the query    \n",
    "```# query_result, query_costs = execute_query(executable_plan)```  "
   ]
  },
  {
   "cell_type": "markdown",
   "id": "53897bec-d2d0-4dad-a2a2-d753e2703d52",
   "metadata": {},
   "source": [
    "### Output the result  \n",
    "```# print(query_costs)```  "
   ]
  },
  {
   "cell_type": "markdown",
   "id": "08fcac81-fb3c-4f6d-b30c-83a58c812312",
   "metadata": {},
   "source": [
    "# Import the dependencies"
   ]
  },
  {
   "cell_type": "code",
   "execution_count": null,
   "id": "4de8e88c-30aa-4ff5-aa64-d563326d35b6",
   "metadata": {},
   "outputs": [],
   "source": [
    "import csv\n",
    "import re\n",
    "from typing import List, NamedTuple\n",
    "from enum import Enum, auto"
   ]
  },
  {
   "cell_type": "markdown",
   "id": "8d255be8-5ace-496d-9616-5ff1984207ed",
   "metadata": {},
   "source": [
    "# Storage Layer  \n",
    "  \n",
    "Manages I/O  \n",
    "If we try, this can be a mini data engine all by itself  "
   ]
  },
  {
   "cell_type": "code",
   "execution_count": null,
   "id": "6d950dbf-dd9a-4735-b98e-d8fa161bdecb",
   "metadata": {},
   "outputs": [],
   "source": [
    "class Column:\n",
    "    def __init__(self, name, col_type):\n",
    "        self.name = name\n",
    "        self.col_type = col_type"
   ]
  },
  {
   "cell_type": "code",
   "execution_count": null,
   "id": "f609fec2-3c53-49d4-8cc7-86b8fa00166f",
   "metadata": {},
   "outputs": [],
   "source": [
    "class Table:\n",
    "\tdef __init__(self, name, columns):\n",
    "\t\tself.name = name\n",
    "\t\tself.columns = {col.name: col for col in columns}\n",
    "\t\tself.data = []\n",
    "\n",
    "\tdef table_scan(self):\n",
    "\t\treturn self.data\n",
    "\n",
    "\tdef insert(self, row):\n",
    "\t\tif set(row.keys()) != set(self.columns.keys()):\n",
    "\t\t\traise ValueError(\"Row does not match table schema\")\n",
    "\t\t# Type checking and conversion can be added here\n",
    "\t\tself.data.append(row)\n",
    "\n",
    "\tdef select(self, columns, limit = -1, where_clause=None):\n",
    "\t\tresult = []\n",
    "\t\tcounter = 0\n",
    "\t\tfor row in self.data:\n",
    "\t\t\tcounter += 1\n",
    "\t\t\tif (counter<=limit or limit == -1) and (where_clause is None or where_clause.evaluate(row)):\n",
    "\t\t\t\tresult_row = {col: row[col] for col in columns}\n",
    "\t\t\t\tresult.append(result_row)\n",
    "\t\t\telse:\n",
    "\t\t\t\tbreak\n",
    "\t\treturn result\n",
    "\n",
    "\t# Todo: Additional methods for update, delete etc."
   ]
  },
  {
   "cell_type": "code",
   "execution_count": null,
   "id": "8c934b64-4208-4cc9-a55b-702279ee4e48",
   "metadata": {},
   "outputs": [],
   "source": [
    "# Convert the string value from CSV to the specified data type.\n",
    "def convert_type(value, col_type):\n",
    "    if col_type == int:\n",
    "        return int(value)\n",
    "    elif col_type == float:\n",
    "        return float(value)\n",
    "    elif col_type == str:\n",
    "        return value\n",
    "    else:\n",
    "        raise TypeError(f\"Unsupported column type: {col_type}\")"
   ]
  },
  {
   "cell_type": "code",
   "execution_count": null,
   "id": "cb867fdb-e283-4973-9e32-5d39c351d943",
   "metadata": {},
   "outputs": [],
   "source": [
    "class Database:\n",
    "\tdef __init__(self):\n",
    "\t\tself.tables = {}\n",
    "\n",
    "\tdef create_table(self, name, columns):\n",
    "\t\tself.tables[name] = Table(name, columns)\n",
    "\n",
    "\tdef get_table(self, name):\n",
    "\t\treturn self.tables.get(name)\n",
    "\t\n",
    "\tdef load_csv(self, table_name, file_path, delimiter=',', quotechar='\"', escapechar=None, quoting=csv.QUOTE_MINIMAL):\n",
    "\t\tprint(\"Database: load_csv: file_path = \",file_path)\n",
    "\t\ttable = self.get_table(table_name)\n",
    "\t\tif not table:\n",
    "\t\t\traise ValueError(f\"Table {table_name} does not exist\")\n",
    "\t\t# pay attention to the dialect of the CSV\n",
    "\t\twith open(file_path, 'r', encoding='utf-8') as file:\n",
    "\t\t\treader = csv.DictReader(file, delimiter=delimiter, quotechar=quotechar, escapechar=escapechar, quoting=quoting)\n",
    "\t\t\tfor row in reader:\n",
    "\t\t\t\tconverted_row = {col: convert_type(row[col], table.columns[col].col_type) for col in row}\n",
    "\t\t\t\ttable.insert(converted_row)"
   ]
  },
  {
   "cell_type": "code",
   "execution_count": null,
   "id": "a08c8899-4b11-450d-a0a4-4ebbd76a1d25",
   "metadata": {},
   "outputs": [],
   "source": [
    "# Test our database\n",
    "db_test = Database() # Real original naming\n",
    "db_test.create_table('users', [Column('name', str), Column('age', int)])\n",
    "db_test.get_table('users').insert({'name': 'Alice', 'age': 30})\n",
    "print(db_test.get_table('users').select(['name', 'age']))"
   ]
  },
  {
   "cell_type": "code",
   "execution_count": null,
   "id": "c019ed3a-49b1-41bc-b746-365cae5b7ab0",
   "metadata": {},
   "outputs": [],
   "source": [
    "# Try it on our movies file\n",
    "# movieId,title,genres\n",
    "db_movies = Database()\n",
    "db_movies.create_table('movies', [Column('movieId', str), Column('title', str), Column('genres', str)])\n",
    "db_movies.load_csv('movies', file_path_movies)"
   ]
  },
  {
   "cell_type": "code",
   "execution_count": null,
   "id": "66840e8b-1f8c-49cd-a833-e76272c1fd82",
   "metadata": {},
   "outputs": [],
   "source": [
    "# let's try the ratings file too - see if type conversions work better\n",
    "# userId,movieId,rating,timestamp\n",
    "db_movies.create_table('ratings', [Column('userId', str), \n",
    "\t\t\t\t\t\t\t\t   Column('movieId', str), \n",
    "\t\t\t\t\t\t\t\t   Column('rating', float), \n",
    "\t\t\t\t\t\t\t\t   Column('timestamp', float)])\n",
    "db_movies.load_csv('ratings', file_path_ratings)\n",
    "# the above fails silently if you give it the wrong CSV file to ingest, \n",
    "# a better data engine needs to catch that."
   ]
  },
  {
   "cell_type": "code",
   "execution_count": null,
   "id": "836bf743-ce73-435c-bcef-ccc67d4a20c8",
   "metadata": {},
   "outputs": [],
   "source": [
    "# lists all the titles\n",
    "# db.get_table('movies').select(['title'])\n",
    "db_movies.get_table('movies').select(['title'], limit = 10)\n",
    "# o bc! chal gaya!!! looks like a pandas or pyspark query tho..."
   ]
  },
  {
   "cell_type": "code",
   "execution_count": null,
   "id": "40bf95be-da7a-4ad8-b6a2-064f59e5801b",
   "metadata": {},
   "outputs": [],
   "source": [
    "# ratings found in the file\n",
    "db_movies.get_table('ratings').select(['movieId', 'rating'], limit = 15)"
   ]
  },
  {
   "cell_type": "markdown",
   "id": "3f6aeb83-cfe2-44ca-8ef4-c8a4d62e950b",
   "metadata": {},
   "source": [
    "That ```get_table()``` will be a ```TableScanOperator``` later. "
   ]
  },
  {
   "cell_type": "markdown",
   "id": "2be49771-5b2d-4c28-9afb-f7929a858105",
   "metadata": {},
   "source": [
    "# SQL Parser  \n",
    "  \n",
    "## 3 parts to it\n",
    "1. **Abstract Syntax Tree** - Puts the tokens in a specific order of 'nodes'. This way, the system can go to each node and execute the operation the node represents. The 'tree' part is traditional (I think, Idon'tknow), these days its more a Directed Acyclic Graph (DAG).\n",
    "2. **Tokenizer** - takes a SQL query string and breaks it into meaningful chunks\n",
    "3. **Parser** - The actual parser. This will take the tokens from a tokenizer and generate the AST (or DAG, keep your wits around)\n",
    "  \n",
    "  \n",
    "This can sound confusing at first, only because lots of nouns are involved.   \n",
    "Stay with it, it's really simple.  \n",
    "  "
   ]
  },
  {
   "cell_type": "markdown",
   "id": "188a7d90-359b-492a-8b10-29edea3b3bd6",
   "metadata": {},
   "source": [
    "## AST Node Definitions\n",
    "  \n",
    "Our simple database has only a few types of nodes.  \n",
    "One to represent the processing of a WHERE clause in the SELECT query.  \n",
    "Another to represent the SELECT statement itself.  \n",
    "\n",
    "...and for simplicity's sake we do not implement the WHERE clause right now. Let's attend to that later.  "
   ]
  },
  {
   "cell_type": "code",
   "execution_count": null,
   "id": "5141020d-53b1-4c47-949c-50fc46ddf85a",
   "metadata": {},
   "outputs": [],
   "source": [
    "# Base class\n",
    "class ASTNode:\n",
    "    pass"
   ]
  },
  {
   "cell_type": "code",
   "execution_count": null,
   "id": "04ea9efe-b544-41a1-8260-31ebb7264348",
   "metadata": {},
   "outputs": [],
   "source": [
    "class WhereClause(ASTNode):\n",
    "    def __init__(self, condition):\n",
    "        self.condition = condition  # This could be a more complex structure in a full implementation"
   ]
  },
  {
   "cell_type": "code",
   "execution_count": null,
   "id": "c6752a17-ea28-49fd-a6b1-2aa3e255b56b",
   "metadata": {},
   "outputs": [],
   "source": [
    "class SelectStatement(ASTNode):\n",
    "\tdef __init__(self, columns, table_name, where_clause=None):\n",
    "\t\tself.columns = columns  # List of column names or '*'\n",
    "\t\tself.table_name = table_name  # Name of the table\n",
    "\t\tself.where_clause = where_clause  # WhereClause node or None\n",
    "\t\tprint(\"SelectStatement: this Select Statement has \\nColumns: \",str(list(self.columns)),\"\\nTable: \",str(self.table_name),\"\\nWHERE CLAUSE: \", str(self.where_clause))\n",
    "\t\t\n",
    "\t# def __repr__(self):\n",
    "\t\t# return \"Select Statement has \\nColumns: \"+str(list(self.columns)),\"\\nTable: \"+str(self.table_name)+\"and WHERE CLAUSE: \"+ str(self.where_clause)"
   ]
  },
  {
   "cell_type": "markdown",
   "id": "548e5e29-906d-4a89-8187-3f7f7d8e3bd5",
   "metadata": {},
   "source": [
    "## Tokenize   \n",
    "Break a string into meaningful parts. "
   ]
  },
  {
   "cell_type": "code",
   "execution_count": null,
   "id": "8fe00b05-0a2e-4c44-8b7a-b1da72620589",
   "metadata": {},
   "outputs": [],
   "source": [
    "# all the different types of tokens we'll support here.\n",
    "# try ANSI SQL standard for a list of what most data engines support...\n",
    "class TokenType(Enum):\n",
    "\tSELECT = auto()\n",
    "\tASTERISK = auto()\n",
    "\tFROM = auto()\n",
    "\tWHERE = auto()\n",
    "\tJOIN = auto()\n",
    "\tON = auto()\n",
    "\tORDER = auto()\n",
    "\tBY = auto()\n",
    "\tGROUP = auto()\n",
    "\tHAVING = auto()\n",
    "\tINSERT = auto()\n",
    "\tUPDATE = auto()\n",
    "\tDELETE = auto()\n",
    "\tIDENTIFIER = auto()\n",
    "\tSTRING = auto()\n",
    "\tNUMBER = auto()\n",
    "\tOPERATOR = auto()\n",
    "\tPUNCTUATION = auto() # ignoring punctuation could be problematic, it's better to support proper COMMA, SEMICOLON etc.\n",
    "\tWHITESPACE = auto()  # so we can ignore it in further processing"
   ]
  },
  {
   "cell_type": "code",
   "execution_count": null,
   "id": "3b48b1d0-ff43-484c-9e82-22d4dd9e5ce3",
   "metadata": {},
   "outputs": [],
   "source": [
    "# Define a dictionary for quick keyword lookup\n",
    "SQL_KEYWORDS = {\n",
    "\t'SELECT': TokenType.SELECT,\n",
    "\t'FROM': TokenType.FROM,\n",
    "\t'WHERE': TokenType.WHERE,\n",
    "\t'JOIN': TokenType.JOIN,\n",
    "\t'ON': TokenType.ON,\n",
    "\t'ORDER': TokenType.ORDER,\n",
    "\t'BY': TokenType.BY,\n",
    "\t'GROUP': TokenType.GROUP,\n",
    "\t'HAVING': TokenType.HAVING,\n",
    "\t'INSERT': TokenType.INSERT,\n",
    "\t'UPDATE': TokenType.UPDATE,\n",
    "\t'DELETE': TokenType.DELETE,\n",
    "\t'ASTERISK': TokenType.ASTERISK\n",
    "}\n",
    "# TODO: is it too much to ask that you match this with the TokenTypes????"
   ]
  },
  {
   "cell_type": "code",
   "execution_count": null,
   "id": "691aad7e-9ab1-4e14-be9c-6a7eaaca0a9c",
   "metadata": {},
   "outputs": [],
   "source": [
    "# actual maaramari\n",
    "# TODO: like cool-re do 2 or 3 types of tokenizers\n",
    "def tokenize(sql):\n",
    "\ttoken_patterns = r'''\n",
    "\t\t('[^']*'|\"[^\"]*\")\t\t\t  # String literals\n",
    "\t  | (<=|>=|<>|!=|<|>|=)\t\t\t  # Comparison operators\n",
    "\t  | (\\d+\\.\\d*|\\.\\d+|\\d+)\t\t  # Numeric values\n",
    "\t  | ([,;()])\t\t\t\t\t  # Punctuation\n",
    "\t  | (\\b[a-zA-Z_][a-zA-Z0-9_]*\\b)  # Identifiers or SQL keywords\n",
    "\t  | (\\s+)\t\t\t\t\t\t  # Whitespace\n",
    "\t'''\n",
    "\ttoken_regex = re.compile(token_patterns, re.VERBOSE) #VERBOSE allows for multiline regex with comments \n",
    "\tfor match in token_regex.finditer(sql):\n",
    "\t\ttoken = match.group(0)\n",
    "\t\tif token.isspace():\n",
    "\t\t\tyield (token, TokenType.WHITESPACE)\n",
    "\t\telif token in (',', ';', '(', ')'):\n",
    "\t\t\tyield (token, TokenType.PUNCTUATION)\n",
    "\t\telif token in ('*'):\n",
    "\t\t\tyield (token, TokenType.ASTERISK)\n",
    "\t\telif token.upper() in SQL_KEYWORDS:\n",
    "\t\t\tyield (token.upper(), SQL_KEYWORDS[token.upper()])\n",
    "\t\telif re.match(r'^[\\'\"].*[\\'\"]$', token):\n",
    "\t\t\tyield (token, TokenType.STRING)\n",
    "\t\telif re.match(r'^\\d+(\\.\\d+)?$', token):\n",
    "\t\t\tyield (token, TokenType.NUMBER)\n",
    "\t\telif re.match(r'<=|>=|<>|!=|<|>|=$', token):\n",
    "\t\t\tyield (token, TokenType.OPERATOR)\n",
    "\t\telse:\n",
    "\t\t\tyield (token, TokenType.IDENTIFIER)"
   ]
  },
  {
   "cell_type": "code",
   "execution_count": null,
   "id": "bb9ad6b1-aa48-4c51-95b8-84ffa93a7648",
   "metadata": {},
   "outputs": [],
   "source": [
    "# Test \n",
    "sql_query_test_01 = \"SELECT name, age FROM users WHERE age >= 21 AND status = 'active' ORDER BY age DESC;\"\n",
    "t = tokenize(sql_query_test_01)\n",
    "# \n",
    "print(list(t))\n",
    "# print(next(t,None))"
   ]
  },
  {
   "cell_type": "markdown",
   "id": "51d76103-fd3e-4956-928e-5e7be79b3908",
   "metadata": {},
   "source": [
    "## Parser  \n",
    "\n",
    "Take a SQL query string, break it into meaningful parts, assign nodes to each part."
   ]
  },
  {
   "cell_type": "code",
   "execution_count": null,
   "id": "fa3245d4-1790-4bc2-b5a6-ab07c0e6206e",
   "metadata": {
    "editable": true,
    "slideshow": {
     "slide_type": ""
    },
    "tags": []
   },
   "outputs": [],
   "source": [
    "# wish this was smaller, breaking it into multiple cells for ease.\n",
    "# notice the\n",
    "# Parser.method = method \n",
    "# hack"
   ]
  },
  {
   "cell_type": "code",
   "execution_count": null,
   "id": "486c901f-8c2b-45f7-956c-dd472a2621a5",
   "metadata": {
    "editable": true,
    "slideshow": {
     "slide_type": ""
    },
    "tags": []
   },
   "outputs": [],
   "source": [
    "class Parser:\n",
    "\tdef __init__(self, tokens):\n",
    "\t\tself.tokens = tokens\n",
    "\t\tself.current_token = None\n",
    "\t\tself.next_token = None\n",
    "\t\tself._next_token()"
   ]
  },
  {
   "cell_type": "code",
   "execution_count": null,
   "id": "dd56e79f-0fdb-4ea0-89e7-ca4429aaa56f",
   "metadata": {
    "editable": true,
    "slideshow": {
     "slide_type": ""
    },
    "tags": []
   },
   "outputs": [],
   "source": [
    "def _next_token(self):\n",
    "\ttry:\n",
    "\t\tself.current_token = self.next_token\n",
    "\t\tself.next_token = next(self.tokens, None)\n",
    "\texcept StopIteration:\n",
    "\t\tself.current_token = None\n",
    "# \n",
    "Parser._next_token = _next_token"
   ]
  },
  {
   "cell_type": "code",
   "execution_count": null,
   "id": "7b37ecc7-a112-4983-82f9-9e77c6c90e61",
   "metadata": {
    "editable": true,
    "slideshow": {
     "slide_type": ""
    },
    "tags": []
   },
   "outputs": [],
   "source": [
    "# Main parsing loop - generates a SelectStatement AST node\n",
    "# This could be better implemented as a plain regex match (I think, todo - try that next)\n",
    "def parse(self):\n",
    "\t\n",
    "\tif (self.current_token == None) and (self.next_token != None):\n",
    "\t\tself._next_token()\n",
    "\t# \n",
    "\tif self.current_token[1] != TokenType.SELECT:\n",
    "\t\traise SyntaxError(\"Query must start with SELECT\")\n",
    "\tself._next_token()\n",
    "\n",
    "\tcolumns = self._parse_columns()\n",
    "\n",
    "\t# skip whitespace\n",
    "\tif self.current_token[1] == TokenType.WHITESPACE:\n",
    "\t\twhile self.current_token[1] == TokenType.WHITESPACE:\n",
    "\t\t\tself._next_token()\n",
    "\n",
    "\tif self.current_token[1] != TokenType.FROM:\n",
    "\t\traise SyntaxError(\"Expected FROM after column list\")\n",
    "\tself._next_token()\n",
    "\n",
    "\ttable_name = self._parse_table_name()\n",
    "\n",
    "\twhere_clause = None\n",
    "\tif self.current_token[1] == TokenType.WHERE:\n",
    "\t\tself._next_token()\n",
    "\t\twhere_clause = self._parse_where_clause()\n",
    "\t# \n",
    "\t# This is where a SelectStatement AST node is created\n",
    "\treturn SelectStatement(columns, table_name, where_clause)\n",
    "# \n",
    "Parser.parse = parse"
   ]
  },
  {
   "cell_type": "code",
   "execution_count": null,
   "id": "164c2d1f-ea7d-470d-a6ec-273a11daaeeb",
   "metadata": {
    "editable": true,
    "slideshow": {
     "slide_type": ""
    },
    "tags": []
   },
   "outputs": [],
   "source": [
    "# kinda long winded, need a better way to handle whitespaces...\n",
    "# this is supposed to capture one or more columns in your query\n",
    "def _parse_columns(self):\n",
    "\tcolumns = []\n",
    "\n",
    "\t# skip whitespace\n",
    "\twhile self.current_token[1] == TokenType.WHITESPACE:\n",
    "\t\tself._next_token()\n",
    "\t\t\n",
    "\tif self.current_token[1] == TokenType.ASTERISK:\n",
    "\t\tcolumns.append('*')\n",
    "\t\tself._next_token()\n",
    "\telse:\n",
    "\t\twhile True:\n",
    "\t\t\t# skip whitespace or commas\n",
    "\t\t\twhile self.current_token[1] == TokenType.WHITESPACE or self.current_token[1] == TokenType.PUNCTUATION:\n",
    "\t\t\t\tself._next_token()\n",
    "\t\t\t\t\n",
    "\t\t\t# do this till you reach from, we do not support sub-queries in this engine yet.\n",
    "\t\t\tif self.current_token[1] == TokenType.FROM:\n",
    "\t\t\t\tbreak\n",
    "\t\t\t\t\n",
    "\t\t\tif self.current_token[1] != TokenType.IDENTIFIER:\n",
    "\t\t\t\traise SyntaxError(\"Expected column name\")\n",
    "\t\t\tprint(\"add \",self.current_token[0],\" to list of columns\")\n",
    "\t\t\tcolumns.append(self.current_token[0])\n",
    "\t\t\tself._next_token()\n",
    "\t\t\t# move on, punctuation don't need attention in this simple implementation\n",
    "\t\t\tif self.current_token[1] == TokenType.PUNCTUATION:\n",
    "\t\t\t\tcontinue\n",
    "\treturn columns\n",
    "# \n",
    "Parser._parse_columns = _parse_columns"
   ]
  },
  {
   "cell_type": "code",
   "execution_count": null,
   "id": "660c9b33-9368-48cc-a674-c1f871a492d5",
   "metadata": {
    "editable": true,
    "slideshow": {
     "slide_type": ""
    },
    "tags": []
   },
   "outputs": [],
   "source": [
    "# sooo much simpler! I have to do a better parse_columns... \n",
    "def _parse_table_name(self):\n",
    "\t# skip whitespace\n",
    "\twhile self.current_token[1] == TokenType.WHITESPACE:\n",
    "\t\tself._next_token()\n",
    "\tif self.current_token[1] != TokenType.IDENTIFIER:\n",
    "\t\traise SyntaxError(\"Expected table name\")\n",
    "\ttable_name = self.current_token[0]\n",
    "\tself._next_token()\n",
    "\treturn table_name\n",
    "# \n",
    "Parser._parse_table_name = _parse_table_name"
   ]
  },
  {
   "cell_type": "code",
   "execution_count": null,
   "id": "b10ace7b-cd99-4881-ab58-059a9d2ae226",
   "metadata": {
    "editable": true,
    "slideshow": {
     "slide_type": ""
    },
    "tags": []
   },
   "outputs": [],
   "source": [
    "# TODO - I need to do a better version here...\n",
    "# generates a WhereClause AST node\n",
    "def _parse_where_clause(self):\n",
    "\t# In a full implementation, this would need to handle complex expressions.\n",
    "\t# For simplicity, we'll assume it's just a single condition.\n",
    "\tif self.current_token[1] != TokenType.IDENTIFIER and self.current_token[1] != TokenType.WHITESPACE:\n",
    "\t\traise SyntaxError(\"Expected condition after WHERE\")\n",
    "\t# condition = self.current_token[0]\n",
    "\tcondition = None\n",
    "\t# self._next_token()\n",
    "\treturn WhereClause(condition)\n",
    "# \n",
    "Parser._parse_where_clause = _parse_where_clause"
   ]
  },
  {
   "cell_type": "markdown",
   "id": "182e50c8-191e-4648-b581-129538e10d03",
   "metadata": {},
   "source": [
    "## Tests for the parser  \n",
    "must eat the pudding to prove it is there..."
   ]
  },
  {
   "cell_type": "code",
   "execution_count": null,
   "id": "e0bf766c-b00b-4653-9349-0a6df9dc45d3",
   "metadata": {},
   "outputs": [],
   "source": [
    "# test this nonsense - need to write a cleaner parser...\n",
    "sql_query_test_02 = \"SELECT name, age FROM users WHERE age > 30\"\n",
    "print(\"SQL Query:\\n\\t\", sql_query_test_02)\n",
    "tokens_sql_query_test_02 = tokenize(sql_query_test_02) \n",
    "# REMEMBER, as you list(gen) a generator, it's already emitted all values...\n",
    "# print(\"Tokenized:\\n\\t\",list(tokens_check), \" \", tokens_check)\n",
    "parser_sql_query_test_02 = Parser(tokens_sql_query_test_02)\n",
    "# print(\"Parser:\\n\\t\",tokens)\n",
    "ast_sql_query_test_02 = parser_sql_query_test_02.parse()"
   ]
  },
  {
   "cell_type": "code",
   "execution_count": null,
   "id": "4474085d-5cda-41f3-b0f5-900bee91ed4e",
   "metadata": {},
   "outputs": [],
   "source": [
    "sql_query_test_03 = \"SELECT numpty, humpty, dumpty FROM poems WHERE fall LIKE '%great%'\"\n",
    "print(\"SQL Query:\\n\\t\", sql_query_test_03)\n",
    "tokens_sql_query_test_03 = tokenize(sql_query_test_03) \n",
    "parser_sql_query_test_03 = Parser(tokens_sql_query_test_03)\n",
    "ast_sql_query_test_03 = parser_sql_query_test_03.parse()"
   ]
  },
  {
   "cell_type": "code",
   "execution_count": null,
   "id": "b355676a-5cc4-40c3-8a92-d166e1f66140",
   "metadata": {},
   "outputs": [],
   "source": [
    "# TODO: For a more evolved parser, wouldn't it be great to draw the DAG? Like Spark and Dask do?\n",
    "# print(ast)"
   ]
  },
  {
   "cell_type": "markdown",
   "id": "176169eb-d0e0-4875-ab59-6d25be8e6e8d",
   "metadata": {},
   "source": [
    "# Query Planner  \n",
    "  \n",
    "Given an AST, create a plan for executing the query."
   ]
  },
  {
   "cell_type": "code",
   "execution_count": null,
   "id": "f1158793-d2c6-4351-82ef-b115b895cfba",
   "metadata": {},
   "outputs": [],
   "source": [
    "class QueryPlan:\n",
    "\tdef __init__(self):\n",
    "\t\tself.steps = []\n",
    "\n",
    "\tdef add_step(self, step):\n",
    "\t\tself.steps.append(step)\n",
    "\n",
    "\tdef list_steps(self):\n",
    "\t\treturn str(list(self.steps))"
   ]
  },
  {
   "cell_type": "code",
   "execution_count": null,
   "id": "3fca5097-94ab-42de-ab3f-344af6d0d25e",
   "metadata": {},
   "outputs": [],
   "source": [
    "class QueryPlanner:\n",
    "    def __init__(self, database):\n",
    "        self.database = database\n",
    "\n",
    "    def create_plan(self, ast):\n",
    "        plan = QueryPlan()\n",
    "\n",
    "        if isinstance(ast, SelectStatement):\n",
    "            # Step 1: Full Table Scan\n",
    "            plan.add_step(('FullTableScan', ast.table_name))\n",
    "\n",
    "            # Step 2: Filter (WHERE clause)\n",
    "\t\t\t# - like before we are not getting into the where clause\n",
    "\t\t\t# just to keep things simple and easy to grok\n",
    "            if ast.where_clause:\n",
    "                plan.add_step(('Filter', ast.where_clause))\n",
    "\n",
    "            # TODO - Step 3: Joins\n",
    "            # for join in ast.joins:\n",
    "            #     plan.add_step(('Join', join.table_name, join.on_condition))\n",
    "\n",
    "            # Additional steps like aggregations can be added here\n",
    "\n",
    "        return plan"
   ]
  },
  {
   "cell_type": "code",
   "execution_count": null,
   "id": "ae9f6a0d-74bf-447c-8035-ac76e78c84ce",
   "metadata": {},
   "outputs": [],
   "source": [
    "# check\n",
    "\n",
    "db_movies\n",
    "\n"
   ]
  },
  {
   "cell_type": "code",
   "execution_count": null,
   "id": "e93c4e49-df6c-4183-9dda-9a1d474bfcc6",
   "metadata": {},
   "outputs": [],
   "source": [
    "planner = QueryPlanner(db)\n",
    "plan = planner.create_plan(ast)  # Assuming 'ast' is an AST from the parser"
   ]
  },
  {
   "cell_type": "code",
   "execution_count": null,
   "id": "dc455164-8968-4e36-b272-0d2f5b80f406",
   "metadata": {},
   "outputs": [],
   "source": [
    "print(plan.list_steps())"
   ]
  },
  {
   "cell_type": "markdown",
   "id": "726dcf15-5bdf-4de5-8772-e3fedcdf855e",
   "metadata": {},
   "source": [
    "# Query Plan Optimizer"
   ]
  },
  {
   "cell_type": "code",
   "execution_count": null,
   "id": "641a339b-c6a3-4a8d-a282-50c55a62efa4",
   "metadata": {},
   "outputs": [],
   "source": [
    "class QueryOptimizer:\n",
    "    def __init__(self, database):\n",
    "        self.database = database\n",
    "\n",
    "    def optimize(self, plan):\n",
    "        optimized_plan = self._apply_predicate_pushdown(plan)\n",
    "        optimized_plan = self._apply_join_reordering(optimized_plan)\n",
    "        return optimized_plan\n",
    "\n",
    "    def _apply_predicate_pushdown(self, plan):\n",
    "        # This is a placeholder for predicate pushdown logic.\n",
    "        # In practice, you would modify the plan to move filters closer to the data source.\n",
    "        return plan\n",
    "\n",
    "    def _apply_join_reordering(self, plan):\n",
    "        # This is a placeholder for join reordering logic.\n",
    "        # In practice, you would reorder joins based on size, indexes, or other factors.\n",
    "        return plan"
   ]
  },
  {
   "cell_type": "code",
   "execution_count": null,
   "id": "fad979f9-efc8-456d-95bb-3e0d0b260388",
   "metadata": {},
   "outputs": [],
   "source": [
    "# test our dummy optimizer\n",
    "optimizer = QueryOptimizer(db)\n",
    "optimized_plan = optimizer.optimize(plan)  # Assuming 'plan' is from the QueryPlanner"
   ]
  },
  {
   "cell_type": "code",
   "execution_count": null,
   "id": "90c4a688-b249-4cb6-93e4-9c459a6c4737",
   "metadata": {},
   "outputs": [],
   "source": [
    "print(optimized_plan.list_steps())"
   ]
  },
  {
   "cell_type": "markdown",
   "id": "51e3d1de-4af4-4ed7-be9a-42a5380159aa",
   "metadata": {},
   "source": [
    "# The Execution Engine"
   ]
  },
  {
   "cell_type": "markdown",
   "id": "5a229da4-b48d-4505-8362-9f328d26a732",
   "metadata": {},
   "source": [
    "## Executable Operations"
   ]
  },
  {
   "cell_type": "code",
   "execution_count": null,
   "id": "5a4156fd-40c7-4500-853c-41fa7d120609",
   "metadata": {},
   "outputs": [],
   "source": [
    "# basic class with a cost function - \n",
    "# because our database will natively provide cost of execution for every query...\n",
    "\n",
    "class BaseOperator:\n",
    "    def __init__(self):\n",
    "        self.rows_processed = 0\n",
    "\n",
    "    def get_cost(self):\n",
    "        return {'rows_processed': self.rows_processed}\n",
    "\n",
    "# Extend this base class in SelectOperator, JoinOperator, GroupByOperator etc."
   ]
  },
  {
   "cell_type": "code",
   "execution_count": null,
   "id": "2e6a3dea-a426-431a-8d44-02a43ac35100",
   "metadata": {},
   "outputs": [],
   "source": [
    "class TableScanOperator(BaseOperator):\n",
    "\tdef __init__(self, table): # Todo: provide a condition filter here to reduce scans -  condition=None)\n",
    "\t\t\n",
    "\t\t# self.db = db\n",
    "\t\t# self.table = self.db.get_table(table)\n",
    "\t\tself.table = table\n",
    "\t\t# self.condition = condition\n",
    "\n",
    "\tdef execute(self):\n",
    "\t\t# table_scan = (row for row in self.table)\n",
    "\t\ttable_scan = self.table.table_scan()\n",
    "\t\tself.rows_processed = len(table_scan)\n",
    "\t\treturn table_scan\n",
    "\n",
    "\tdef get_cost(self):\n",
    "\t\treturn super().get_cost()\n"
   ]
  },
  {
   "cell_type": "code",
   "execution_count": null,
   "id": "537a7dfd-0e40-4b8e-ac9e-5c78d50fd038",
   "metadata": {},
   "outputs": [],
   "source": [
    "class SelectOperator(BaseOperator):\n",
    "\tdef __init__(self, input_operator, select_columns):\n",
    "\t\tsuper().__init__()\n",
    "\t\tself.input_operator = input_operator\n",
    "\t\tself.select_columns = select_columns\n",
    "\t\tself.result_limit = 25\n",
    "\n",
    "\tdef execute(self):\n",
    "\t\tresult = []\n",
    "\t\tfor row in self.input_operator.execute():\n",
    "\t\t\tself.rows_processed += 1\n",
    "\t\t\tif self.rows_processed <= self.result_limit:\n",
    "\t\t\t\tselected_row = {col: row[col] for col in self.select_columns}\n",
    "\t\t\t\tresult.append(selected_row)\n",
    "\t\t\telse:\n",
    "\t\t\t\tbreak\n",
    "\t\treturn result\n",
    "\n",
    "\tdef get_cost(self):\n",
    "\t\treturn super().get_cost()"
   ]
  },
  {
   "cell_type": "markdown",
   "id": "9cd9c5a7-3abf-4e27-988b-46225b078613",
   "metadata": {},
   "source": [
    "## Execution Plan"
   ]
  },
  {
   "cell_type": "code",
   "execution_count": null,
   "id": "982bc3f6-a780-401b-bc2f-f9d2399f84e9",
   "metadata": {},
   "outputs": [],
   "source": [
    "def create_executable_plan(plan, database):\n",
    "\texecutable_plan = []\n",
    "\tfor step in plan.steps:\n",
    "\t\t\tif step[0] == 'FullTableScan':\n",
    "\t\t\t\ttable_name = step[1]\n",
    "\t\t\t\texecutable_plan.append(TableScanOperator(database.get_table(table_name)))\n",
    "\n",
    "\t\t\telif step[0] == 'Select':\n",
    "\t\t\t\tcolumns = step[1]\n",
    "\t\t\t\tinput_operator = executable_plan[-1]\t# The input is the result of the previous step\n",
    "\t\t\t\texecutable_plan.append(SelectOperator(input_operator, columns))\n",
    "\n",
    "\t\t\t# just fo sho - first get the where clause sorted...\n",
    "\t\t\t# elif step[0] == 'Join':\n",
    "\t\t\t#\t\t# Assuming step format is ('Join', right_table_name, join_condition)\n",
    "\t\t\t#\t\tright_table = database.get_table(step[1])\n",
    "\t\t\t#\t\tjoin_condition = step[2]\n",
    "\t\t\t#\t\tleft_operator = executable_plan[-1]\n",
    "\t\t\t#\t\tright_operator = TableScanOperator(right_table)\n",
    "\t\t\t#\t\texecutable_plan.append(JoinOperator(left_operator, right_operator, join_condition))\n",
    "\n",
    "\t\t\t# Add cases for other types of steps ('GroupBy', 'Filter' etc etc here...)\n",
    "\n",
    "\treturn executable_plan"
   ]
  },
  {
   "cell_type": "markdown",
   "id": "ca097039-0c2d-437e-8686-c9fe00d72fa8",
   "metadata": {},
   "source": [
    "## Executing Queries"
   ]
  },
  {
   "cell_type": "code",
   "execution_count": null,
   "id": "b040b72b-1310-4429-8746-c1b27e85071e",
   "metadata": {},
   "outputs": [],
   "source": [
    "def execute_query(executable_plan):\n",
    "\tfor operator in executable_plan:\n",
    "\t\tcost = {}\n",
    "\t\tresult = operator.execute()\n",
    "\t\tcost[str(operator)] = operator.get_cost()\n",
    "\n",
    "\t# The result of the last operation is the result of the entire query\n",
    "\treturn result, cost\n"
   ]
  },
  {
   "cell_type": "markdown",
   "id": "1064f528-f2a5-4ec4-9d49-024382dc82f7",
   "metadata": {},
   "source": [
    "# The Pyramid"
   ]
  },
  {
   "cell_type": "markdown",
   "id": "8802ce79-1283-40d6-854c-7a3301a712ae",
   "metadata": {},
   "source": [
    "Test the final engine, this is where the pudding rubber meets the pudding road, just to mix my metaphors...  "
   ]
  },
  {
   "cell_type": "markdown",
   "id": "a5bfb123-8ab4-4569-a65d-c420fef50db6",
   "metadata": {},
   "source": [
    "<font color='red'><br/>**Stand Back, this may blow up**</font> "
   ]
  },
  {
   "cell_type": "markdown",
   "id": "4ced50d1-80ac-41fa-a1ba-c32ef950a2f1",
   "metadata": {},
   "source": [
    "### Create a database and a table and data in the table "
   ]
  },
  {
   "cell_type": "code",
   "execution_count": null,
   "id": "028974b5-5858-4fd7-98ed-da806ed9335a",
   "metadata": {},
   "outputs": [],
   "source": [
    "db = Database()\n",
    "db.create_table('movies', [Column('movieId', str), Column('title', str), Column('genres', str)])\n",
    "db.load_csv('movies', file_path_movies)"
   ]
  },
  {
   "cell_type": "markdown",
   "id": "84b4dfc6-e0df-464c-aa8d-ecfa2d251b8a",
   "metadata": {},
   "source": [
    "### Example query    "
   ]
  },
  {
   "cell_type": "code",
   "execution_count": null,
   "id": "eea0ff72-84b8-4607-939b-16796355d188",
   "metadata": {},
   "outputs": [],
   "source": [
    "# Example query\n",
    "sql_query = \"SELECT genres FROM movies WHERE genres = 'Comedy'\""
   ]
  },
  {
   "cell_type": "markdown",
   "id": "f9e7b47a-8d5b-4b29-b79c-315a9c1646ba",
   "metadata": {},
   "source": [
    "### Parsing the query to AST    "
   ]
  },
  {
   "cell_type": "code",
   "execution_count": null,
   "id": "6d1b1f0b-f271-410d-92c1-23f4fb4e0c22",
   "metadata": {},
   "outputs": [],
   "source": [
    "# Parsing the query to AST\n",
    "tokens = tokenize(sql_query)\n",
    "parser = Parser(iter(tokens))\n",
    "ast = parser.parse()"
   ]
  },
  {
   "cell_type": "markdown",
   "id": "e63a8217-7518-4d69-b655-b95b70f08e20",
   "metadata": {},
   "source": [
    "### Creating the query plan    "
   ]
  },
  {
   "cell_type": "code",
   "execution_count": null,
   "id": "05a6441f-42bf-4818-a641-022edabd2bcc",
   "metadata": {},
   "outputs": [],
   "source": [
    "# Creating the query plan\n",
    "planner = QueryPlanner(db)\n",
    "plan = planner.create_plan(ast)"
   ]
  },
  {
   "cell_type": "markdown",
   "id": "e4277d38-c78c-4190-956d-7b9eab33fd80",
   "metadata": {},
   "source": [
    "### Optimizing the query plan   "
   ]
  },
  {
   "cell_type": "code",
   "execution_count": null,
   "id": "a7015c9d-7e16-4c3d-8374-a1094f96b2fd",
   "metadata": {},
   "outputs": [],
   "source": [
    "# Optimizing the query plan\n",
    "optimizer = QueryOptimizer(db)\n",
    "optimized_plan = optimizer.optimize(plan)"
   ]
  },
  {
   "cell_type": "markdown",
   "id": "ae7cb881-2ed1-4be0-820c-10012cdb815d",
   "metadata": {},
   "source": [
    "### Creating the execution plan   "
   ]
  },
  {
   "cell_type": "code",
   "execution_count": null,
   "id": "a679c3e2-b5f7-4131-8f27-4d7c6201abd8",
   "metadata": {},
   "outputs": [],
   "source": [
    "# Creating the executable plan\n",
    "executable_plan = create_executable_plan(optimized_plan, db)"
   ]
  },
  {
   "cell_type": "markdown",
   "id": "f1b97eaf-4cc6-4748-9332-7e8c2c717b73",
   "metadata": {},
   "source": [
    "### Executing the query      "
   ]
  },
  {
   "cell_type": "code",
   "execution_count": null,
   "id": "e74dd474-be76-4f11-bbcd-f960116e8f82",
   "metadata": {},
   "outputs": [],
   "source": [
    "# Executing the query\n",
    "query_result, query_costs = execute_query(executable_plan)"
   ]
  },
  {
   "cell_type": "markdown",
   "id": "8f7c4bbc-e4a9-4c5d-ad1d-cedbff7fcb3c",
   "metadata": {},
   "source": [
    "### Output the result  "
   ]
  },
  {
   "cell_type": "code",
   "execution_count": null,
   "id": "430d318b-6871-4f99-96ae-f277f03f5c65",
   "metadata": {},
   "outputs": [],
   "source": [
    "# Output the result\n",
    "print(query_costs)"
   ]
  },
  {
   "cell_type": "code",
   "execution_count": null,
   "id": "2cf78d95-a9b5-47eb-bfa0-801e59dc8e2e",
   "metadata": {},
   "outputs": [],
   "source": [
    "# Output the result\n",
    "print(query_result)"
   ]
  },
  {
   "cell_type": "markdown",
   "id": "f7dfaa8e-fe21-4f6d-8158-b45e8348ecc6",
   "metadata": {},
   "source": [
    "Whoa!"
   ]
  },
  {
   "cell_type": "markdown",
   "id": "e9cd9648-5a13-446f-a775-76616ace03c1",
   "metadata": {},
   "source": [
    "# Next"
   ]
  },
  {
   "cell_type": "markdown",
   "id": "f30f9979-d5c1-4fa6-875d-76e2c017ec76",
   "metadata": {},
   "source": [
    "That Where clause, JOINS and Optimizers"
   ]
  }
 ],
 "metadata": {
  "kernelspec": {
   "display_name": "Python 3 (ipykernel)",
   "language": "python",
   "name": "python3"
  },
  "language_info": {
   "codemirror_mode": {
    "name": "ipython",
    "version": 3
   },
   "file_extension": ".py",
   "mimetype": "text/x-python",
   "name": "python",
   "nbconvert_exporter": "python",
   "pygments_lexer": "ipython3",
   "version": "3.12.4"
  }
 },
 "nbformat": 4,
 "nbformat_minor": 5
}
